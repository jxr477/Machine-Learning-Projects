{
 "cells": [
  {
   "cell_type": "code",
   "execution_count": 2,
   "metadata": {},
   "outputs": [],
   "source": [
    "import os\n",
    "import math\n",
    "import operator\n",
    "import numpy as np\n",
    "import random\n",
    "from weighted_nbayes import weightedNaiveBayes\n",
    "from mldata import parse_c45"
   ]
  },
  {
   "cell_type": "code",
   "execution_count": 3,
   "metadata": {},
   "outputs": [],
   "source": [
    "data1 = np.array(parse_c45('voting').to_float())\n",
    "data2 = np.array(parse_c45('spam').to_float())\n",
    "data3 = np.array(parse_c45('volcanoes').to_float())"
   ]
  },
  {
   "cell_type": "code",
   "execution_count": 145,
   "metadata": {},
   "outputs": [],
   "source": [
    "def stratCrossValid(data): # stratified 5-fold-validation for both discrete and continuous cases\n",
    "    subset0 = []\n",
    "    subset1 = []\n",
    "    fold1 = []\n",
    "    fold2 = []\n",
    "    fold3 = []\n",
    "    fold4 = []\n",
    "    fold5 = []\n",
    "    for i in range(0, len(data)):\n",
    "        if  1.0 == data[i,-1]:\n",
    "            subset1.append(data[i])\n",
    "        else:\n",
    "            subset0.append(data[i])\n",
    "    subset1 = np.array(subset1)\n",
    "    subset0 = np.array(subset0)\n",
    "    \n",
    "    np.random.seed(12345) # set random seed to 12345\n",
    "    np.random.shuffle(subset1)\n",
    "    np.random.shuffle(subset0)  \n",
    "    line1 = int(len(subset1) / 5)\n",
    "    line2 = int(len(subset0) / 5)\n",
    "    \n",
    "    temp1 = subset1[0:line1]\n",
    "    temp2 = subset0[0:line2]\n",
    "    fold1 = np.concatenate((temp1,temp2), axis = 0)\n",
    "    temp3 = subset1[line1:line1 * 2]\n",
    "    temp4 = subset0[line2:line2 * 2]\n",
    "    fold2 = np.concatenate((temp3,temp4), axis = 0)\n",
    "    temp5 = subset1[line1 * 2:line1 * 3]\n",
    "    temp6 = subset0[line2 * 2:line2 * 3]\n",
    "    fold3 = np.concatenate((temp5,temp6), axis = 0)\n",
    "    temp7 = subset1[line1 * 3:line1 * 4]\n",
    "    temp8 = subset0[line2 * 3:line2 * 4]\n",
    "    fold4 = np.concatenate((temp7,temp8), axis = 0)\n",
    "    temp9 = subset1[line1 * 4:len(subset1)]\n",
    "    temp10 = subset0[line2 * 4:len(subset0)]\n",
    "    fold5 = np.concatenate((temp9,temp10), axis = 0)\n",
    "    \n",
    "    return fold1,fold2,fold3,fold4,fold5\n",
    "\n",
    "def getLabelCounts(data):\n",
    "    posCounts = 0\n",
    "    negCounts = 0\n",
    "\n",
    "    for i in range(0, len(data)):\n",
    "        if  data[i] == 1.0:\n",
    "            posCounts += 1 # number of positive labels\n",
    "        else:\n",
    "            negCounts += 1 # number of negative labels\n",
    "    return negCounts, posCounts\n",
    "\n",
    "def getLabel(index, data):\n",
    "\n",
    "    if data[index,-1] == 1:\n",
    "        return 1\n",
    "    else:\n",
    "        return -1\n",
    "\n",
    "\n",
    "def boosting(testData, trainingData, algorithm, iterations):\n",
    "    output = []\n",
    "    weights = np.zeros(len(trainingData)) + 1 / len(trainingData)\n",
    "    votingWeights = np.zeros(iterations)\n",
    "    \n",
    "    if (algorithm == \"nbayes\"):\n",
    "        for i in range(0, iterations):\n",
    "            temp = []\n",
    "            for j in range(0, len(trainingData)):\n",
    "                temp.append(weightedNaiveBayes(3,3,trainingData,trainingData[j],weights))\n",
    "            temp = np.array(temp)\n",
    "            weightedError = calcError(weights, temp, trainingData)\n",
    "            \n",
    "            \n",
    "            if (weightedError == 0 or weightedError >= 0.5):\n",
    "                break\n",
    "            else:\n",
    "                votingWeights[i] = 0.5 * np.log((1 - weightedError) / weightedError)\n",
    "                new_weights = []\n",
    "                for k in range(0, len(trainingData)):\n",
    "                     new_weights.append(weights[k] * np.exp(-votingWeights[i] * getLabel(k, trainingData) * temp[k]))\n",
    "                for m in range(0, len(trainingData)):\n",
    "                    weights[m] = new_weights[m] / np.sum(new_weights)\n",
    "            \n",
    "\n",
    "        fx = 0\n",
    "        needConvert = []\n",
    "        for n in range(0, len(testData)):\n",
    "            for g in range(0, iterations):\n",
    "                fx = fx + votingWeights[g] / np.sum(votingWeights) * weightedNaiveBayes(3,3,trainingData,testData[n],weights)\n",
    "            needConvert.append(fx)\n",
    "            \n",
    "        output.append(1)\n",
    "        for p in range(1,len(needConvert)):\n",
    "            if (needConvert[p] - needConvert[p - 1] >= 0.99):\n",
    "                output.append(1)\n",
    "            else:\n",
    "                output.append(-1)\n",
    "            \n",
    "    \n",
    "    output = np.array(output)\n",
    "    return output\n",
    "        \n",
    "def calcAccuracy(preds, data): #\n",
    "    correctCounts = 0.0\n",
    "    for i in range(0, len(preds)):\n",
    "        if preds[i] == data[i,-1] == 1:\n",
    "            correctCounts = correctCounts + 1\n",
    "        elif preds[i] == -1 and data[i,-1] == 0:\n",
    "            correctCounts = correctCounts + 1\n",
    "    accuracy = correctCounts / len(data)\n",
    "    \n",
    "    return accuracy\n",
    "\n",
    "def calcError(weights, preds, data): #\n",
    "    error = 0.0\n",
    "    for i in range(0, len(preds)):\n",
    "        if preds[i] == -1 and data[i,-1] == 1:\n",
    "            error = error + weights[i] * 1\n",
    "        elif preds[i] == 1 and data[i,-1] == 0:\n",
    "            error = error + weights[i] * 1\n",
    "    \n",
    "    return error\n",
    "\n",
    "def applyWeights(data, weight):\n",
    "    output = []\n",
    "    for i in range(0,len(data)):\n",
    "        output.append(weightedNaiveBayes(3,3,data,data[i],weight))\n",
    "    output = np.array(output)\n",
    "    return output"
   ]
  },
  {
   "cell_type": "code",
   "execution_count": 8,
   "metadata": {},
   "outputs": [
    {
     "data": {
      "text/plain": [
       "440"
      ]
     },
     "execution_count": 8,
     "metadata": {},
     "output_type": "execute_result"
    }
   ],
   "source": [
    "weight = np.zeros(440) + 1/440\n",
    "len(weight)"
   ]
  },
  {
   "cell_type": "code",
   "execution_count": 152,
   "metadata": {},
   "outputs": [],
   "source": [
    "test = boosting(data3[:10], data3[900:1000], \"nbayes\", 5)"
   ]
  },
  {
   "cell_type": "code",
   "execution_count": 147,
   "metadata": {},
   "outputs": [
    {
     "data": {
      "text/plain": [
       "1"
      ]
     },
     "execution_count": 147,
     "metadata": {},
     "output_type": "execute_result"
    }
   ],
   "source": [
    "weightedNaiveBayes(3,3,data3[:50],data3[51],weight)"
   ]
  },
  {
   "cell_type": "code",
   "execution_count": 150,
   "metadata": {},
   "outputs": [
    {
     "data": {
      "text/plain": [
       "array([ 1, -1, -1, -1, -1, -1, -1, -1, -1, -1])"
      ]
     },
     "execution_count": 150,
     "metadata": {},
     "output_type": "execute_result"
    }
   ],
   "source": [
    "test"
   ]
  },
  {
   "cell_type": "code",
   "execution_count": null,
   "metadata": {},
   "outputs": [],
   "source": []
  },
  {
   "cell_type": "code",
   "execution_count": null,
   "metadata": {},
   "outputs": [],
   "source": []
  },
  {
   "cell_type": "code",
   "execution_count": 84,
   "metadata": {},
   "outputs": [
    {
     "data": {
      "text/plain": [
       "20"
      ]
     },
     "execution_count": 84,
     "metadata": {},
     "output_type": "execute_result"
    }
   ],
   "source": [
    "len(test)"
   ]
  },
  {
   "cell_type": "code",
   "execution_count": 153,
   "metadata": {},
   "outputs": [
    {
     "data": {
      "text/plain": [
       "1.0"
      ]
     },
     "execution_count": 153,
     "metadata": {},
     "output_type": "execute_result"
    }
   ],
   "source": [
    "calcAccuracy(test, data3[:10])"
   ]
  },
  {
   "cell_type": "code",
   "execution_count": 160,
   "metadata": {},
   "outputs": [
    {
     "data": {
      "text/plain": [
       "array([1010.,    2.,  113.,  136.,  125.,  134.,  131.,   98.,   94.,\n",
       "         98.,   97.,  108.,   97.,  100.,  100.,   81.,   94.,  107.,\n",
       "        106.,  111.,  102.,  135.,  113.,  101.,  105.,   98.,   97.,\n",
       "        102.,  103.,  102.,   95.,   98.,  110.,  110.,  114.,  113.,\n",
       "        147.,  135.,  106.,  109.,   92.,   93.,   97.,  104.,  114.,\n",
       "        101.,   90.,   94.,  104.,  115.,  107.,  133.,  151.,  104.,\n",
       "         95.,  108.,  106.,  103.,   98.,  101.,  112.,  103.,  100.,\n",
       "        100.,  114.,  103.,  105.,  148.,  128.,  106.,  100.,   88.,\n",
       "         96.,   97.,   89.,  100.,  115.,  101.,  103.,  115.,  119.,\n",
       "        118.,  144.,  151.,  124.,   97.,   89.,   97.,   94.,  102.,\n",
       "         90.,   91.,  103.,  110.,  127.,  116.,  109.,  147.,  158.,\n",
       "        142.,  120.,  103.,   96.,   96.,   96.,   78.,   92.,  119.,\n",
       "        106.,  130.,  120.,  130.,  142.,  127.,  123.,  139.,  108.,\n",
       "         98.,   86.,   89.,  100.,   92.,  121.,  117.,  166.,  136.,\n",
       "        129.,  129.,  128.,  105.,  128.,  134.,  108.,  108.,   92.,\n",
       "         91.,   92.,  117.,  129.,  153.,  115.,  104.,  117.,  114.,\n",
       "        125.,  114.,  148.,  113.,   96.,   88.,   82.,   82.,  110.,\n",
       "        127.,  110.,   99.,   97.,  109.,  100.,  103.,  115.,  122.,\n",
       "        123.,  105.,   89.,  110.,  103.,  118.,  121.,   96.,  101.,\n",
       "        104.,   94.,   94.,   96.,  124.,  113.,  116.,  133.,   93.,\n",
       "         90.,   92.,  109.,  114.,   98.,  107.,   94.,  108.,   87.,\n",
       "        106.,  103.,  120.,  120.,  109.,  104.,   88.,   98.,   89.,\n",
       "         95.,   88.,   88.,   84.,  107.,  101.,  106.,   97.,  115.,\n",
       "        120.,  118.,  119.,  115.,   99.,   95.,  106.,   99.,  105.,\n",
       "         92.,  102.,  103.,  101.,   95.,  102.,  109.,  125.,  104.,\n",
       "        123.,  107.,    0.])"
      ]
     },
     "execution_count": 160,
     "metadata": {},
     "output_type": "execute_result"
    }
   ],
   "source": [
    "data3[1010]"
   ]
  },
  {
   "cell_type": "code",
   "execution_count": null,
   "metadata": {},
   "outputs": [],
   "source": []
  },
  {
   "cell_type": "code",
   "execution_count": null,
   "metadata": {},
   "outputs": [],
   "source": [
    "test[1][0]"
   ]
  },
  {
   "cell_type": "code",
   "execution_count": null,
   "metadata": {},
   "outputs": [],
   "source": []
  }
 ],
 "metadata": {
  "kernelspec": {
   "display_name": "Python 3",
   "language": "python",
   "name": "python3"
  },
  "language_info": {
   "codemirror_mode": {
    "name": "ipython",
    "version": 3
   },
   "file_extension": ".py",
   "mimetype": "text/x-python",
   "name": "python",
   "nbconvert_exporter": "python",
   "pygments_lexer": "ipython3",
   "version": "3.7.3"
  }
 },
 "nbformat": 4,
 "nbformat_minor": 2
}

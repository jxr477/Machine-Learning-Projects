{
 "cells": [
  {
   "cell_type": "code",
   "execution_count": 1,
   "metadata": {},
   "outputs": [],
   "source": [
    "import os\n",
    "import math\n",
    "import operator\n",
    "import numpy as np\n",
    "import random\n",
    "from nbayes import naiveBayes\n",
    "from nbayes import discretize\n",
    "from mldata import parse_c45"
   ]
  },
  {
   "cell_type": "code",
   "execution_count": 2,
   "metadata": {},
   "outputs": [],
   "source": [
    "data1 = np.array(parse_c45('voting').to_float())\n",
    "data2 = np.array(parse_c45('spam').to_float())\n",
    "data3 = np.array(parse_c45('volcanoes').to_float())"
   ]
  },
  {
   "cell_type": "code",
   "execution_count": 206,
   "metadata": {},
   "outputs": [],
   "source": [
    "def stratCrossValid(data): # stratified 5-fold-validation for both discrete and continuous cases\n",
    "    subset0 = []\n",
    "    subset1 = []\n",
    "    fold1 = []\n",
    "    fold2 = []\n",
    "    fold3 = []\n",
    "    fold4 = []\n",
    "    fold5 = []\n",
    "    for i in range(0, len(data)):\n",
    "        if  1.0 == data[i,-1]:\n",
    "            subset1.append(data[i])\n",
    "        else:\n",
    "            subset0.append(data[i])\n",
    "    subset1 = np.array(subset1)\n",
    "    subset0 = np.array(subset0)\n",
    "    \n",
    "    np.random.seed(12345) # set random seed to 12345\n",
    "    np.random.shuffle(subset1)\n",
    "    np.random.shuffle(subset0)  \n",
    "    line1 = int(len(subset1) / 5)\n",
    "    line2 = int(len(subset0) / 5)\n",
    "    \n",
    "    temp1 = subset1[0:line1]\n",
    "    temp2 = subset0[0:line2]\n",
    "    fold1 = np.concatenate((temp1,temp2), axis = 0)\n",
    "    temp3 = subset1[line1:line1 * 2]\n",
    "    temp4 = subset0[line2:line2 * 2]\n",
    "    fold2 = np.concatenate((temp3,temp4), axis = 0)\n",
    "    temp5 = subset1[line1 * 2:line1 * 3]\n",
    "    temp6 = subset0[line2 * 2:line2 * 3]\n",
    "    fold3 = np.concatenate((temp5,temp6), axis = 0)\n",
    "    temp7 = subset1[line1 * 3:line1 * 4]\n",
    "    temp8 = subset0[line2 * 3:line2 * 4]\n",
    "    fold4 = np.concatenate((temp7,temp8), axis = 0)\n",
    "    temp9 = subset1[line1 * 4:len(subset1)]\n",
    "    temp10 = subset0[line2 * 4:len(subset0)]\n",
    "    fold5 = np.concatenate((temp9,temp10), axis = 0)\n",
    "    \n",
    "    return fold1,fold2,fold3,fold4,fold5\n",
    "\n",
    "def getLabelCounts(data):\n",
    "    posCounts = 0\n",
    "    negCounts = 0\n",
    "\n",
    "    for i in range(0, len(data)):\n",
    "        if  data[i] == 1.0:\n",
    "            posCounts += 1 # number of positive labels\n",
    "        else:\n",
    "            negCounts += 1 # number of negative labels\n",
    "    return negCounts, posCounts\n",
    "\n",
    "\n",
    "def baggingHelper(testData, trainingData, algorithm, iterations):\n",
    "   \n",
    "    output = []\n",
    "    if algorithm == \"nbayes\":\n",
    "        for i in range(0, iterations):\n",
    "            temp = []\n",
    "            train = []\n",
    "            for j in range(0, len(trainingData)): # create randomized training datasets\n",
    "                train.append(random.choice(trainingData))\n",
    "            for k in range(0, len(testData)): # run test data on training datasets\n",
    "                train = np.array(train)\n",
    "                temp.append(naiveBayes(-1, 5, train, testData[k]))\n",
    "            output.append(temp)             \n",
    "    output = np.array(output)\n",
    "    return output\n",
    "\n",
    "def bagging(testData, trainingData, algorithm, iterations):\n",
    "    dataset = baggingHelper(testData, trainingData, algorithm, iterations)\n",
    "    output = []\n",
    "    \n",
    "    if (algorithm == \"nbayes\"):\n",
    "        for i in range(0, len(testData)):\n",
    "            posCount = 0\n",
    "            negCount = 0\n",
    "            for j in range(0, iterations):\n",
    "                if dataset[j, i] == 1:\n",
    "                    posCount += 1\n",
    "                elif dataset[j, i] == 0:\n",
    "                    negCount += 1\n",
    "            if posCount > negCount:\n",
    "                output.append(1)\n",
    "            elif posCount < negCount:\n",
    "                output.append(0)\n",
    "            else:\n",
    "                output.append(random.randint(0,1))\n",
    "    \n",
    "    output = np.array(output)\n",
    "    return output\n",
    "        \n",
    "def calcAccuracy(preds, data): #\n",
    "    correctCounts = 0.0\n",
    "    for i in range(1, len(preds) - 1):\n",
    "        if preds[i] == data[i,-1]:\n",
    "            correctCounts = correctCounts + 1\n",
    "    accuracy = correctCounts / len(data)\n",
    "    \n",
    "    return accuracy\n",
    "\n",
    "def search(ID, data):\n",
    "    output = -1\n",
    "    for i in range(0, len(data)):\n",
    "        if data[i, 0] == ID:\n",
    "            output = data[i, -1]\n",
    "            break\n",
    "    return output"
   ]
  },
  {
   "cell_type": "code",
   "execution_count": 135,
   "metadata": {},
   "outputs": [
    {
     "data": {
      "text/plain": [
       "array([[0, 0, 1, 0, 0, 0, 0, 0, 0, 0, 1, 0, 0, 0, 0, 0, 0, 0, 0, 0, 0, 0,\n",
       "        0, 1, 0, 0, 0, 0, 0, 0, 0, 0, 0, 0, 0, 0, 0, 0, 0, 0, 0, 0, 0, 0,\n",
       "        0, 0, 0, 0, 0, 0],\n",
       "       [0, 0, 1, 0, 0, 0, 0, 0, 0, 0, 0, 0, 0, 0, 0, 0, 0, 0, 0, 0, 0, 0,\n",
       "        0, 1, 0, 0, 0, 0, 0, 0, 0, 0, 0, 0, 0, 0, 0, 0, 0, 0, 0, 0, 0, 0,\n",
       "        0, 0, 0, 0, 0, 0],\n",
       "       [0, 0, 0, 0, 0, 0, 0, 0, 0, 0, 0, 0, 0, 0, 0, 0, 0, 0, 0, 0, 0, 0,\n",
       "        0, 1, 0, 0, 0, 0, 0, 0, 0, 0, 0, 0, 0, 0, 0, 0, 0, 0, 0, 0, 0, 0,\n",
       "        0, 0, 0, 0, 0, 0],\n",
       "       [0, 0, 0, 0, 0, 0, 0, 0, 0, 0, 0, 0, 0, 0, 0, 0, 0, 0, 0, 0, 0, 0,\n",
       "        0, 1, 0, 0, 0, 0, 0, 0, 0, 0, 0, 0, 0, 0, 0, 0, 0, 0, 0, 0, 0, 0,\n",
       "        0, 0, 0, 0, 0, 0],\n",
       "       [0, 0, 1, 0, 0, 0, 0, 0, 0, 0, 1, 0, 0, 0, 0, 0, 0, 0, 0, 0, 0, 0,\n",
       "        0, 1, 0, 0, 0, 0, 0, 0, 0, 0, 0, 0, 0, 0, 0, 0, 0, 0, 0, 0, 0, 0,\n",
       "        0, 0, 0, 0, 0, 0]])"
      ]
     },
     "execution_count": 135,
     "metadata": {},
     "output_type": "execute_result"
    }
   ],
   "source": [
    "test = baggingHelper(data3[1000:1050], data3[1100:1200], \"nbayes\", 5)\n",
    "test"
   ]
  },
  {
   "cell_type": "code",
   "execution_count": 207,
   "metadata": {},
   "outputs": [
    {
     "data": {
      "text/plain": [
       "array([1, 1, 1, 1, 1, 1, 1, 1, 1, 1, 1, 1, 1, 1, 1, 1, 1, 1, 1, 1, 1, 1,\n",
       "       1, 1, 1, 1, 1, 1, 1, 1, 1, 1, 1, 1, 1, 1, 1, 1, 1, 1, 1, 1, 1, 1,\n",
       "       1, 1, 1, 1, 1, 1, 0, 1, 1, 1, 1, 1, 1, 1, 1, 1, 1, 0, 1, 1, 1, 1,\n",
       "       1, 1, 1, 1, 1, 1, 1, 1, 1, 1, 1, 1, 1, 1, 1, 1, 1, 1, 1, 1, 1, 1,\n",
       "       1, 1, 1, 1, 1, 1, 1, 1, 1, 1, 1, 1, 1, 1, 1, 1, 1, 1, 1, 1, 1, 1,\n",
       "       1, 1, 1, 1, 1, 1, 1, 1, 1, 1, 1, 1, 1, 1, 1, 1, 1, 1, 1, 1, 1, 0,\n",
       "       1, 1, 1, 1, 1, 1, 1, 1, 1, 1, 1, 1, 1, 1, 1, 1, 1, 1, 1, 1, 1, 1,\n",
       "       1, 1, 1, 1, 1, 1, 1, 1, 1, 1, 1, 1, 1, 1, 1, 1, 1, 1, 1, 1, 1, 1,\n",
       "       1, 1, 1, 1, 1, 1, 1, 1, 1, 1, 1, 1, 1, 1, 1, 1, 1, 1, 1, 1, 1, 1,\n",
       "       1, 1])"
      ]
     },
     "execution_count": 207,
     "metadata": {},
     "output_type": "execute_result"
    }
   ],
   "source": [
    "test2 = bagging(data2[100:300], data2[500:1000], \"nbayes\", 5)\n",
    "test2"
   ]
  },
  {
   "cell_type": "code",
   "execution_count": null,
   "metadata": {},
   "outputs": [],
   "source": [
    "test3 = naiveBayes(-1, 3, data1[:100])\n",
    "test3"
   ]
  },
  {
   "cell_type": "code",
   "execution_count": 208,
   "metadata": {},
   "outputs": [
    {
     "data": {
      "text/plain": [
       "0.665"
      ]
     },
     "execution_count": 208,
     "metadata": {},
     "output_type": "execute_result"
    }
   ],
   "source": [
    "calcAccuracy(test2, data2[100:300])"
   ]
  },
  {
   "cell_type": "code",
   "execution_count": 114,
   "metadata": {},
   "outputs": [
    {
     "data": {
      "text/plain": [
       "array([1.31000000e+02, 2.67167600e+03, 9.00000000e+00, 7.24116000e+05,\n",
       "       5.84000000e+00, 5.00000000e+01, 2.00000000e+00, 9.50000000e-01,\n",
       "       0.00000000e+00, 0.00000000e+00, 0.00000000e+00, 0.00000000e+00,\n",
       "       1.00000000e+00, 1.00000000e+00, 1.28268800e+00, 8.95040000e-02,\n",
       "       1.11042000e-01, 4.87910000e-02, 1.39730000e+04, 4.62699432e+03,\n",
       "       1.00000000e+00])"
      ]
     },
     "execution_count": 114,
     "metadata": {},
     "output_type": "execute_result"
    }
   ],
   "source": [
    "random.choice(data2[100:200])"
   ]
  },
  {
   "cell_type": "code",
   "execution_count": 58,
   "metadata": {},
   "outputs": [],
   "source": [
    "qq = np.array(data1[:100])\n",
    "yy = np.array(data1[300:])"
   ]
  },
  {
   "cell_type": "code",
   "execution_count": 171,
   "metadata": {},
   "outputs": [
    {
     "data": {
      "text/plain": [
       "1"
      ]
     },
     "execution_count": 171,
     "metadata": {},
     "output_type": "execute_result"
    }
   ],
   "source": [
    "sample = naiveBayes(-1, 5, data3, data3[559])\n",
    "sample"
   ]
  },
  {
   "cell_type": "code",
   "execution_count": null,
   "metadata": {},
   "outputs": [],
   "source": [
    "test[0]"
   ]
  },
  {
   "cell_type": "code",
   "execution_count": 160,
   "metadata": {},
   "outputs": [
    {
     "data": {
      "text/plain": [
       "array([1010.,    2.,  113.,  136.,  125.,  134.,  131.,   98.,   94.,\n",
       "         98.,   97.,  108.,   97.,  100.,  100.,   81.,   94.,  107.,\n",
       "        106.,  111.,  102.,  135.,  113.,  101.,  105.,   98.,   97.,\n",
       "        102.,  103.,  102.,   95.,   98.,  110.,  110.,  114.,  113.,\n",
       "        147.,  135.,  106.,  109.,   92.,   93.,   97.,  104.,  114.,\n",
       "        101.,   90.,   94.,  104.,  115.,  107.,  133.,  151.,  104.,\n",
       "         95.,  108.,  106.,  103.,   98.,  101.,  112.,  103.,  100.,\n",
       "        100.,  114.,  103.,  105.,  148.,  128.,  106.,  100.,   88.,\n",
       "         96.,   97.,   89.,  100.,  115.,  101.,  103.,  115.,  119.,\n",
       "        118.,  144.,  151.,  124.,   97.,   89.,   97.,   94.,  102.,\n",
       "         90.,   91.,  103.,  110.,  127.,  116.,  109.,  147.,  158.,\n",
       "        142.,  120.,  103.,   96.,   96.,   96.,   78.,   92.,  119.,\n",
       "        106.,  130.,  120.,  130.,  142.,  127.,  123.,  139.,  108.,\n",
       "         98.,   86.,   89.,  100.,   92.,  121.,  117.,  166.,  136.,\n",
       "        129.,  129.,  128.,  105.,  128.,  134.,  108.,  108.,   92.,\n",
       "         91.,   92.,  117.,  129.,  153.,  115.,  104.,  117.,  114.,\n",
       "        125.,  114.,  148.,  113.,   96.,   88.,   82.,   82.,  110.,\n",
       "        127.,  110.,   99.,   97.,  109.,  100.,  103.,  115.,  122.,\n",
       "        123.,  105.,   89.,  110.,  103.,  118.,  121.,   96.,  101.,\n",
       "        104.,   94.,   94.,   96.,  124.,  113.,  116.,  133.,   93.,\n",
       "         90.,   92.,  109.,  114.,   98.,  107.,   94.,  108.,   87.,\n",
       "        106.,  103.,  120.,  120.,  109.,  104.,   88.,   98.,   89.,\n",
       "         95.,   88.,   88.,   84.,  107.,  101.,  106.,   97.,  115.,\n",
       "        120.,  118.,  119.,  115.,   99.,   95.,  106.,   99.,  105.,\n",
       "         92.,  102.,  103.,  101.,   95.,  102.,  109.,  125.,  104.,\n",
       "        123.,  107.,    0.])"
      ]
     },
     "execution_count": 160,
     "metadata": {},
     "output_type": "execute_result"
    }
   ],
   "source": [
    "data3[1010]"
   ]
  },
  {
   "cell_type": "code",
   "execution_count": null,
   "metadata": {},
   "outputs": [],
   "source": []
  },
  {
   "cell_type": "code",
   "execution_count": null,
   "metadata": {},
   "outputs": [],
   "source": [
    "test[1][0]"
   ]
  },
  {
   "cell_type": "code",
   "execution_count": null,
   "metadata": {},
   "outputs": [],
   "source": []
  }
 ],
 "metadata": {
  "kernelspec": {
   "display_name": "Python 3",
   "language": "python",
   "name": "python3"
  },
  "language_info": {
   "codemirror_mode": {
    "name": "ipython",
    "version": 3
   },
   "file_extension": ".py",
   "mimetype": "text/x-python",
   "name": "python",
   "nbconvert_exporter": "python",
   "pygments_lexer": "ipython3",
   "version": "3.7.3"
  }
 },
 "nbformat": 4,
 "nbformat_minor": 2
}
